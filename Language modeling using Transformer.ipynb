{
  "nbformat": 4,
  "nbformat_minor": 0,
  "metadata": {
    "kernelspec": {
      "display_name": "Python 3",
      "language": "python",
      "name": "python3"
    },
    "language_info": {
      "codemirror_mode": {
        "name": "ipython",
        "version": 3
      },
      "file_extension": ".py",
      "mimetype": "text/x-python",
      "name": "python",
      "nbconvert_exporter": "python",
      "pygments_lexer": "ipython3",
      "version": "3.7.1"
    },
    "latex_envs": {
      "LaTeX_envs_menu_present": true,
      "autoclose": false,
      "autocomplete": true,
      "bibliofile": "biblio.bib",
      "cite_by": "apalike",
      "current_citInitial": 1,
      "eqLabelWithNumbers": true,
      "eqNumInitial": 1,
      "hotkeys": {
        "equation": "Ctrl-E",
        "itemize": "Ctrl-I"
      },
      "labels_anchors": false,
      "latex_user_defs": false,
      "report_style_numbering": false,
      "user_envs_cfg": false
    },
    "toc": {
      "base_numbering": 1,
      "nav_menu": {},
      "number_sections": true,
      "sideBar": true,
      "skip_h1_title": false,
      "title_cell": "Table of Contents",
      "title_sidebar": "Contents",
      "toc_cell": false,
      "toc_position": {},
      "toc_section_display": true,
      "toc_window_display": true
    },
    "colab": {
      "name": "5_My. Моделирование языка с помощью Transformer.ipynb",
      "provenance": [],
      "collapsed_sections": []
    }
  },
  "cells": [
    {
      "cell_type": "markdown",
      "metadata": {
        "id": "gxjNjpGrpyEJ"
      },
      "source": [
        "# Language modeling using transformer on Hermann Hesse bibliography data (in Russian)\r\n",
        "\r\n",
        "### Based on course [\"Нейронные сети и обработка текста\"](https://stepik.org/course/54098/)\r\n",
        "\r\n",
        "If you are going to read this notebook, I recommend you to open it in [google colab](https://colab.research.google.com/notebooks/intro.ipynb#recent=true) and start reading from [the beginning of the analysis](#scrollTo=fxTodB_qpyEX), using the attached hyperlinks on functions and classes if you need to."
      ]
    },
    {
      "cell_type": "markdown",
      "metadata": {
        "id": "189TS3fH2Cv5"
      },
      "source": [
        "## Required libraries, functions and classes:"
      ]
    },
    {
      "cell_type": "code",
      "metadata": {
        "id": "dH0NvW8BzsGf"
      },
      "source": [
        "!pip3 install pytorch-nlp --quiet\r\n",
        "!pip3 install youtokentome --quiet\r\n",
        "!pip3 install livelossplot --quiet"
      ],
      "execution_count": null,
      "outputs": []
    },
    {
      "cell_type": "code",
      "metadata": {
        "ExecuteTime": {
          "end_time": "2019-11-05T18:27:53.780539Z",
          "start_time": "2019-11-05T18:27:52.444607Z"
        },
        "id": "3UMrCkoppyEW"
      },
      "source": [
        "from google.colab import drive\n",
        "from google.colab import files\n",
        "\n",
        "import sys\n",
        "\n",
        "import matplotlib.pyplot as plt\n",
        "%matplotlib inline\n",
        "\n",
        "import numpy as np\n",
        "\n",
        "import torch\n",
        "from torch import nn\n",
        "from torch.utils.data import Dataset\n",
        "from torch.utils.data import DataLoader\n",
        "from torch.nn import functional as F\n",
        "from torchnlp.word_to_vector import BPEmb\n",
        "\n",
        "import youtokentome as yttm\n",
        "\n",
        "import random\n",
        "\n",
        "import heapq\n",
        "\n",
        "from livelossplot import PlotLosses\n",
        "\n",
        "from tqdm.notebook import tqdm\n",
        "\n",
        "import datetime\n",
        "\n",
        "from traceback import format_exc\n",
        "\n",
        "from copy import deepcopy"
      ],
      "execution_count": 3,
      "outputs": []
    },
    {
      "cell_type": "code",
      "metadata": {
        "id": "FyGXXxapuloL"
      },
      "source": [
        "def init_random_seed(value=0):\r\n",
        "    random.seed(value)\r\n",
        "    np.random.seed(value)\r\n",
        "    torch.manual_seed(value)\r\n",
        "    torch.cuda.manual_seed(value)\r\n",
        "    torch.backends.cudnn.deterministic = True\r\n",
        "\r\n",
        "init_random_seed()"
      ],
      "execution_count": 4,
      "outputs": []
    },
    {
      "cell_type": "code",
      "metadata": {
        "id": "ZbJvwqUvq4Gb"
      },
      "source": [
        "def copy_data_to_device(data, device):\r\n",
        "    if torch.is_tensor(data):\r\n",
        "        return data.to(device)\r\n",
        "    elif isinstance(data, (list, tuple)):\r\n",
        "        return [copy_data_to_device(elem, device) for elem in data]\r\n",
        "    raise ValueError('Invalid data type {}'.format(type(data)))"
      ],
      "execution_count": 5,
      "outputs": []
    },
    {
      "cell_type": "code",
      "metadata": {
        "id": "Oj68ZM-IwWiK"
      },
      "source": [
        "def get_params_number(model):\r\n",
        "    return sum(t.numel() for t in model.parameters())"
      ],
      "execution_count": 6,
      "outputs": []
    },
    {
      "cell_type": "code",
      "metadata": {
        "id": "fz6D2ry6q2Ly"
      },
      "source": [
        "def divisors(n):\r\n",
        "    \"\"\"Find all divisors of a number\"\"\"\r\n",
        "    i = 1\r\n",
        "    divisors = []\r\n",
        "    while i <= n**0.5:\r\n",
        "        if (n % i == 0) : \r\n",
        "            if (n / i == i):\r\n",
        "                divisors.append(i)\r\n",
        "            else:\r\n",
        "                divisors.extend([i, n // i])\r\n",
        "        i = i + 1\r\n",
        "    return sorted(divisors)"
      ],
      "execution_count": 7,
      "outputs": []
    },
    {
      "cell_type": "code",
      "metadata": {
        "id": "K_LSDUa9ufKL"
      },
      "source": [
        "def split_into_chunks(filename, chunk_size=200):\r\n",
        "    with open(filename) as f:\r\n",
        "        full_text = f.read()\r\n",
        "    return [full_text[start:start + chunk_size] for start in range(0, len(full_text), chunk_size // 2)]"
      ],
      "execution_count": 8,
      "outputs": []
    },
    {
      "cell_type": "code",
      "metadata": {
        "id": "OYs7y8NkMDFJ"
      },
      "source": [
        "def ensure_length(txt, out_len, pad_value):\r\n",
        "    if len(txt) < out_len:\r\n",
        "        txt = list(txt) + [pad_value] * (out_len - len(txt))\r\n",
        "    else:\r\n",
        "        txt = txt[:out_len]\r\n",
        "    return txt\r\n",
        "\r\n",
        "class LanguageModelDataset(Dataset):\r\n",
        "    def __init__(self, sample, chunk_length=100, pad_value=0):\r\n",
        "        self.sample = sample\r\n",
        "        self.chunk_length = chunk_length\r\n",
        "        self.pad_value = pad_value\r\n",
        "\r\n",
        "    def __len__(self):\r\n",
        "        return len(self.sample)\r\n",
        "\r\n",
        "    def __getitem__(self, item):\r\n",
        "        text = self.sample[item]\r\n",
        "        start_i = random.randint(0, max(0, len(text) - self.chunk_length - 1))\r\n",
        "        chunk = text[start_i : start_i + self.chunk_length + 1]\r\n",
        "\r\n",
        "        seed_part = chunk[:-1]\r\n",
        "        target_part = chunk[1:]\r\n",
        "\r\n",
        "        seed_part = ensure_length(seed_part, self.chunk_length, self.pad_value)\r\n",
        "        target_part = ensure_length(target_part, self.chunk_length, self.pad_value)\r\n",
        "\r\n",
        "        seed_part = np.array(seed_part)\r\n",
        "        target_part = np.array(target_part)\r\n",
        "\r\n",
        "        return seed_part, target_part"
      ],
      "execution_count": 9,
      "outputs": []
    },
    {
      "cell_type": "code",
      "metadata": {
        "id": "jTe72xVdPHil"
      },
      "source": [
        "def make_target_dependency_mask(length):\r\n",
        "    full_mask = torch.ones(length, length)\r\n",
        "    ignore_mask = torch.tril(full_mask) < 1\r\n",
        "    full_mask.masked_fill_(ignore_mask, float('-inf'))\r\n",
        "    full_mask.masked_fill_(~ignore_mask, 0)\r\n",
        "    return full_mask"
      ],
      "execution_count": 10,
      "outputs": []
    },
    {
      "cell_type": "code",
      "metadata": {
        "id": "phSORpvwZdn4"
      },
      "source": [
        "def make_positional_encoding(max_length, embedding_size):\r\n",
        "    time = np.pi * torch.arange(0, max_length).float()\r\n",
        "    freq_dividers = torch.arange(1, embedding_size // 2 + 1).float()\r\n",
        "    inputs = time[:, None] / freq_dividers[None, :]\r\n",
        "    result = torch.zeros(max_length, embedding_size)\r\n",
        "    result[:, 0::2] = torch.sin(inputs)\r\n",
        "    result[:, 1::2] = torch.cos(inputs)\r\n",
        "    return result"
      ],
      "execution_count": 11,
      "outputs": []
    },
    {
      "cell_type": "code",
      "metadata": {
        "id": "QZBmKyALZ5lq"
      },
      "source": [
        "class LanguageModel(nn.Module):\r\n",
        "    \"\"\" General class. param::backbone - used architecture of NNet \"\"\"\r\n",
        "    def __init__(self, vocab_size, emb_size, backbone, emb_weights=None, freeze=True, emb_dropout=0.0):\r\n",
        "        super().__init__()\r\n",
        "        if emb_weights is not None:\r\n",
        "            self.embeddings = nn.Embedding.from_pretrained(emb_weights, freeze=freeze, padding_idx=0)\r\n",
        "        else:\r\n",
        "            self.embeddings = nn.Embedding(vocab_size, emb_size, padding_idx=0)\r\n",
        "        self.embedding_size = emb_size\r\n",
        "        self.emb_dropout = nn.Dropout(emb_dropout)\r\n",
        "        self.backbone = backbone\r\n",
        "        self.out = nn.Linear(emb_size, vocab_size)\r\n",
        "    \r\n",
        "    def forward(self, seed_tokenized_sample):\r\n",
        "        batch_size, max_in_length = seed_tokenized_sample.shape\r\n",
        "\r\n",
        "        seed_padding_mask = seed_tokenized_sample == 0\r\n",
        "        dependency_mask = make_target_dependency_mask(max_in_length).to(seed_tokenized_sample.device)\r\n",
        "        \r\n",
        "        seed_embs = self.embeddings(seed_tokenized_sample)  # BatchSize x MaxInLen x EmbSize\r\n",
        "        pos_codes = make_positional_encoding(max_in_length, self.embedding_size).unsqueeze(0).to(seed_embs.device) # 1 x MaxInLen x EmbSize\r\n",
        "        seed_embs = seed_embs + pos_codes\r\n",
        "        seed_embs = self.emb_dropout(seed_embs)\r\n",
        "\r\n",
        "        # BatchSize x TargetLen x EmbSize\r\n",
        "        target_features = self.backbone(seed_embs,\r\n",
        "                                        mask=dependency_mask,\r\n",
        "                                        src_key_padding_mask=seed_padding_mask)\r\n",
        "        logits = self.out(target_features)  # BatchSize x TargetLen x VocabSize\r\n",
        "        return logits"
      ],
      "execution_count": 12,
      "outputs": []
    },
    {
      "cell_type": "code",
      "metadata": {
        "id": "-ffXvcbUdnOl"
      },
      "source": [
        "def lm_cross_entropy(pred, target):\r\n",
        "    \"\"\"\r\n",
        "    pred - BatchSize x TargetLen x VocabSize\r\n",
        "    target - BatchSize x TargetLen\r\n",
        "    \"\"\"\r\n",
        "    pred_flat = pred.view(-1, pred.shape[-1])  # BatchSize*TargetLen x VocabSize\r\n",
        "    target_flat = target.view(-1)  # BatchSize*TargetLen\r\n",
        "    return F.cross_entropy(pred_flat, target_flat, ignore_index=0)"
      ],
      "execution_count": 13,
      "outputs": []
    },
    {
      "cell_type": "code",
      "metadata": {
        "id": "OYH07KJVd4n0"
      },
      "source": [
        "class BatchFirstTransformerEncoder(nn.Module):\r\n",
        "    def __init__(self, *args, **kwargs):\r\n",
        "        super().__init__()\r\n",
        "        self.impl = nn.TransformerEncoder(*args, **kwargs)\r\n",
        "        self.initialize_weights()\r\n",
        "    \r\n",
        "    def forward(self, src, *args, **kwargs):\r\n",
        "        src = src.transpose(0, 1).contiguous()  # MaxInLen x BatchSize x EmbSize\r\n",
        "        result = self.impl(src, *args, **kwargs)  # TargetLen x BatchSize x EmbSize\r\n",
        "        result = result.transpose(0, 1).contiguous()  # BatchSize x TargetLen x EmbSize\r\n",
        "        return result\r\n",
        "    \r\n",
        "    def initialize_weights(self):\r\n",
        "        for param in self.impl.parameters():\r\n",
        "            if param.dim() > 1:\r\n",
        "                nn.init.xavier_uniform_(param)"
      ],
      "execution_count": 14,
      "outputs": []
    },
    {
      "cell_type": "code",
      "metadata": {
        "id": "jx44W288jjRP"
      },
      "source": [
        "def train_eval_loop(model, train_dataset, val_dataset, criterion, lr=1e-3, epoch_n=100, batch_size_train=32,\r\n",
        "                    batch_size_val=32, device=None, early_stopping_patience=10, l2_reg_alpha=0, data_loader_ctor=DataLoader,\r\n",
        "                    optimizer_ctor=None, lr_scheduler_ctor=None, dataloader_workers_n=0, draw_loss=False, show_bar=False, show_lr=False):\r\n",
        "\r\n",
        "\r\n",
        "    assert len(train_dataset) % batch_size_train == 0, \"len of train_dataset must be divisible by train_batch_size\"\r\n",
        "    assert len(val_dataset) % batch_size_val == 0, \"len of val_dataset must be divisible by val_batch_size\"\r\n",
        "\r\n",
        "    if device is None:\r\n",
        "        device = \"cuda\" if torch.cuda.is_available() else \"cpu\"\r\n",
        "    device = torch.device(device)\r\n",
        "    model.to(device)\r\n",
        "\r\n",
        "    if optimizer_ctor is None:\r\n",
        "        optimizer = torch.optim.Adam(model.parameters(), lr=lr, weight_decay=l2_reg_alpha)\r\n",
        "    else:\r\n",
        "        optimizer = optimizer_ctor(model.parameters(), lr=lr)\r\n",
        "    \r\n",
        "    if lr_scheduler_ctor is not None:\r\n",
        "        lr_scheduler = lr_scheduler_ctor(optimizer)\r\n",
        "    else:\r\n",
        "        lr_scheduler = None\r\n",
        "\r\n",
        "    if draw_loss:\r\n",
        "        liveplot = PlotLosses()\r\n",
        "    \r\n",
        "    train_dataloader = data_loader_ctor(train_dataset, batch_size=batch_size_train, num_workers=dataloader_workers_n)\r\n",
        "    val_dataloader = data_loader_ctor(val_dataset, batch_size=batch_size_val, num_workers=dataloader_workers_n)\r\n",
        "\r\n",
        "    best_val_loss = float(\"inf\")\r\n",
        "    best_epoch_i = 0\r\n",
        "    best_model = deepcopy(model)\r\n",
        "    \r\n",
        "    for epoch_i in range(epoch_n):\r\n",
        "        try:\r\n",
        "            if not draw_loss:\r\n",
        "                epoch_start = datetime.datetime.now()\r\n",
        "                print(f\"Epoch {epoch_i}\")\r\n",
        "\r\n",
        "            model.train()\r\n",
        "            mean_train_loss = 0\r\n",
        "            train_batches_n = 0\r\n",
        "\r\n",
        "            for batch_i, (batch_x, batch_y) in enumerate(tqdm(train_dataloader)) if show_bar else enumerate(train_dataloader):\r\n",
        "                batch_x = copy_data_to_device(batch_x, device)\r\n",
        "                batch_y = copy_data_to_device(batch_y, device)\r\n",
        "\r\n",
        "                pred = model(batch_x)\r\n",
        "                loss = criterion(pred, batch_y)\r\n",
        "\r\n",
        "                model.zero_grad()\r\n",
        "                loss.backward()\r\n",
        "\r\n",
        "                optimizer.step()\r\n",
        "\r\n",
        "                mean_train_loss += float(loss)\r\n",
        "                train_batches_n += 1\r\n",
        "\r\n",
        "\r\n",
        "            mean_train_loss /= train_batches_n\r\n",
        "\r\n",
        "            model.eval()\r\n",
        "            mean_val_loss = 0\r\n",
        "            val_batches_n = 0\r\n",
        "\r\n",
        "            with torch.no_grad():\r\n",
        "                for batch_i, (batch_x, batch_y) in enumerate(val_dataloader):\r\n",
        "\r\n",
        "                    batch_x = copy_data_to_device(batch_x, device)\r\n",
        "                    batch_y = copy_data_to_device(batch_y, device)\r\n",
        "\r\n",
        "                    pred = model(batch_x)\r\n",
        "                    loss = criterion(pred, batch_y)\r\n",
        "\r\n",
        "                    mean_val_loss += float(loss)\r\n",
        "                    val_batches_n += 1\r\n",
        "\r\n",
        "            mean_val_loss /= val_batches_n\r\n",
        "\r\n",
        "            if not draw_loss:\r\n",
        "                print('{} iterations for training and {} for validation, {:0.2f} sec'.format(train_batches_n, val_batches_n,\r\n",
        "                                                           (datetime.datetime.now() - epoch_start).total_seconds()))\r\n",
        "                print('Average value of the train loss function:', mean_train_loss)\r\n",
        "                print('Average value of the validation loss function:', mean_val_loss)\r\n",
        "            else:\r\n",
        "                liveplot.update({'mean loss': mean_train_loss, \"val_mean loss\": mean_val_loss})\r\n",
        "                liveplot.draw()\r\n",
        "\r\n",
        "            if mean_val_loss < best_val_loss:\r\n",
        "                best_epoch_i = epoch_i\r\n",
        "                best_val_loss = mean_val_loss\r\n",
        "                best_model = deepcopy(model)\r\n",
        "                if not draw_loss:\r\n",
        "                    print('New best model!')\r\n",
        "            elif epoch_i - best_epoch_i > early_stopping_patience:\r\n",
        "                print('The model has not improved over the last {} epochs, stop training'.format(\r\n",
        "                    early_stopping_patience))\r\n",
        "                break\r\n",
        "  \r\n",
        "            if lr_scheduler is not None:\r\n",
        "                if isinstance(lr_scheduler, torch.optim.lr_scheduler.ReduceLROnPlateau):\r\n",
        "                    lr_scheduler.step(mean_val_loss)\r\n",
        "                elif isinstance(lr_scheduler, torch.optim.lr_scheduler.StepLR):\r\n",
        "                    lr_scheduler.step()\r\n",
        "                    if show_lr:\r\n",
        "                        print(optimizer.param_groups[0]['lr'])\r\n",
        "                else:\r\n",
        "                    lr_scheduler.step()\r\n",
        "\r\n",
        "            print()\r\n",
        "        except KeyboardInterrupt:\r\n",
        "            print('Stopped early by user')\r\n",
        "            break\r\n",
        "        except Exception as ex:\r\n",
        "            print('Error while training: {}\\n{}'.format(ex, format_exc()))\r\n",
        "            break\r\n",
        "\r\n",
        "    return best_val_loss, best_model"
      ],
      "execution_count": 15,
      "outputs": []
    },
    {
      "cell_type": "code",
      "metadata": {
        "id": "sqx_G7G2f2Bd"
      },
      "source": [
        "class GreedyGenerator:\r\n",
        "    def __init__(self, model, tokenizer, device='cuda', eos_token_id=3):\r\n",
        "        self.model = model\r\n",
        "        self.tokenizer = tokenizer\r\n",
        "        self.device = torch.device(device)\r\n",
        "        self.model.to(self.device)\r\n",
        "        self.eos_token_id = eos_token_id\r\n",
        "\r\n",
        "    def __call__(self, seed_text, max_steps_n=40):\r\n",
        "        seed_tokens = self.tokenizer.encode([seed_text])[0]\r\n",
        "\r\n",
        "        for _ in range(max_steps_n):\r\n",
        "            in_batch = torch.tensor(seed_tokens).unsqueeze(0).to(self.device)\r\n",
        "            best_next_token = self.model(in_batch)[0, -1].argmax()\r\n",
        "            if best_next_token == self.eos_token_id:\r\n",
        "                break\r\n",
        "\r\n",
        "            seed_tokens.append(best_next_token)\r\n",
        "\r\n",
        "        return self.tokenizer.decode([seed_tokens])[0]"
      ],
      "execution_count": 16,
      "outputs": []
    },
    {
      "cell_type": "code",
      "metadata": {
        "id": "rt4J8aX4-AMJ"
      },
      "source": [
        "class BeamGenerator:\r\n",
        "    def __init__(self, model, tokenizer, device='cuda', eos_token_id=3):\r\n",
        "        self.model = model\r\n",
        "        self.tokenizer = tokenizer\r\n",
        "        self.device = torch.device(device)\r\n",
        "        self.model.to(self.device)\r\n",
        "        self.eos_token_id = eos_token_id\r\n",
        "\r\n",
        "    def __call__(self, seed_text, max_steps_n=40, return_hypotheses_n=5, beamsize=5):\r\n",
        "        seed_tokens = self.tokenizer.encode([seed_text])[0]\r\n",
        "        initial_length = len(seed_tokens)\r\n",
        "\r\n",
        "        partial_hypotheses = [(0, seed_tokens)]\r\n",
        "        final_hypotheses = []\r\n",
        "\r\n",
        "        while len(partial_hypotheses) > 0:\r\n",
        "            cur_partial_score, cur_partial_hypothesis = heapq.heappop(partial_hypotheses)\r\n",
        "\r\n",
        "            in_batch = torch.tensor(cur_partial_hypothesis).unsqueeze(0).to(self.device)\r\n",
        "            next_tokens_logits = self.model(in_batch)[0, -1]\r\n",
        "            next_tokens_logproba = F.log_softmax(next_tokens_logits, dim=0)\r\n",
        "            topk_continuations = next_tokens_logproba.topk(beamsize)\r\n",
        "\r\n",
        "            for token_score, token_idx in zip(topk_continuations.values, topk_continuations.indices):\r\n",
        "                token_score = float(token_score)\r\n",
        "                token_idx = int(token_idx)\r\n",
        "\r\n",
        "                old_denorm_score = cur_partial_score * np.sqrt(len(cur_partial_hypothesis))\r\n",
        "                new_score = (old_denorm_score - token_score) / np.sqrt(len(cur_partial_hypothesis) + 1)\r\n",
        "\r\n",
        "                new_hypothesis = cur_partial_hypothesis + [token_idx]\r\n",
        "                new_item = (new_score, new_hypothesis)\r\n",
        "\r\n",
        "                if token_idx == self.eos_token_id or len(new_hypothesis) - initial_length >= max_steps_n:\r\n",
        "                    final_hypotheses.append(new_item)\r\n",
        "                else:\r\n",
        "                    heapq.heappush(partial_hypotheses, new_item)\r\n",
        "\r\n",
        "            if len(partial_hypotheses) > beamsize:\r\n",
        "                partial_hypotheses = heapq.nsmallest(beamsize, partial_hypotheses)\r\n",
        "                heapq.heapify(partial_hypotheses)\r\n",
        "\r\n",
        "        final_scores, final_token_lists = zip(*final_hypotheses)\r\n",
        "        final_texts = self.tokenizer.decode(list(final_token_lists))\r\n",
        "\r\n",
        "        result = list(zip(final_scores, final_texts))\r\n",
        "        result.sort()\r\n",
        "        result = result[:return_hypotheses_n]\r\n",
        "\r\n",
        "        return result"
      ],
      "execution_count": 17,
      "outputs": []
    },
    {
      "cell_type": "code",
      "metadata": {
        "id": "1rU5MrlzEygY"
      },
      "source": [
        "class ProbGenerator:\r\n",
        "    def __init__(self, model, tokenizer, device='cuda', eos_token_id=3, max_steps_n=40, temperature=1.0):\r\n",
        "        self.model = model\r\n",
        "        self.tokenizer = tokenizer\r\n",
        "        self.device = torch.device(device)\r\n",
        "        self.model.to(self.device)\r\n",
        "        self.eos_token_id = eos_token_id\r\n",
        "        self.max_steps_n = max_steps_n\r\n",
        "        self.temperature = temperature\r\n",
        "\r\n",
        "    def __call__(self, seed_text):\r\n",
        "        seed_tokens = self.tokenizer.encode([seed_text])[0]\r\n",
        "        \r\n",
        "        with torch.no_grad():\r\n",
        "            for _ in range(self.max_steps_n):\r\n",
        "                in_batch = torch.tensor(seed_tokens).unsqueeze(0).to(self.device)\r\n",
        "                logits_next = self.model(in_batch)[0, -1]\r\n",
        "                p_next = F.softmax(logits_next / self.temperature, dim=-1).data.cpu().numpy()\r\n",
        "                next_token = np.random.choice(len(tokenizer.vocab()), p=p_next)\r\n",
        "                if next_token == self.eos_token_id:\r\n",
        "                    break\r\n",
        "                seed_tokens.append(next_token)\r\n",
        "\r\n",
        "        return ''.join(self.tokenizer.decode([seed_tokens], ignore_ids=[0,2,3]))"
      ],
      "execution_count": 18,
      "outputs": []
    },
    {
      "cell_type": "markdown",
      "metadata": {
        "id": "fxTodB_qpyEX"
      },
      "source": [
        "## Loading dataset and splitting it into training and test samples:"
      ]
    },
    {
      "cell_type": "code",
      "metadata": {
        "id": "6BONUO-4xjwZ",
        "colab": {
          "base_uri": "https://localhost:8080/"
        },
        "outputId": "abdf36db-5695-4576-b2ea-c85bbfc749d0"
      },
      "source": [
        "drive.mount('/content/gdrive')"
      ],
      "execution_count": 19,
      "outputs": [
        {
          "output_type": "stream",
          "text": [
            "Mounted at /content/gdrive\n"
          ],
          "name": "stdout"
        }
      ]
    },
    {
      "cell_type": "code",
      "metadata": {
        "id": "Kboz1dTKxaCh",
        "colab": {
          "base_uri": "https://localhost:8080/"
        },
        "outputId": "1b221093-a2af-47e1-82b1-283fcc4d2339"
      },
      "source": [
        "dataset_filename = \"/content/gdrive/My Drive/ML/datasets/Hermann_Hesse_bibliography_ru.txt\"\r\n",
        "all_chunks = split_into_chunks(dataset_filename, chunk_size=500)\r\n",
        "len(all_chunks)"
      ],
      "execution_count": 20,
      "outputs": [
        {
          "output_type": "execute_result",
          "data": {
            "text/plain": [
              "17067"
            ]
          },
          "metadata": {
            "tags": []
          },
          "execution_count": 20
        }
      ]
    },
    {
      "cell_type": "code",
      "metadata": {
        "ExecuteTime": {
          "end_time": "2019-11-05T18:27:55.954154Z",
          "start_time": "2019-11-05T18:27:55.919185Z"
        },
        "id": "nL1MgC8NpyEY",
        "colab": {
          "base_uri": "https://localhost:8080/"
        },
        "outputId": "f6761343-603c-4830-d61e-8631bf5f8149"
      },
      "source": [
        "np.random.shuffle(all_chunks)\n",
        "\n",
        "TRAIN_SPLIT = int(len(all_chunks) * 0.7)\n",
        "train_sample = all_chunks[:TRAIN_SPLIT]\n",
        "val_sample = all_chunks[TRAIN_SPLIT:]\n",
        "\n",
        "print(\"Training sample size:\", len(train_sample))\n",
        "print(\"Validation sample size:\", len(val_sample))\n",
        "\n",
        "# Save train sample in file for further BPE training:\n",
        "TRAIN_SAMPLE_FILENAME = \"/tmp/train_sample.txt\"\n",
        "\n",
        "with open(TRAIN_SAMPLE_FILENAME, 'w') as f:\n",
        "    f.write('\\n'.join(train_sample))\n"
      ],
      "execution_count": 21,
      "outputs": [
        {
          "output_type": "stream",
          "text": [
            "Training sample size: 11946\n",
            "Validation sample size: 5121\n"
          ],
          "name": "stdout"
        }
      ]
    },
    {
      "cell_type": "markdown",
      "metadata": {
        "id": "M_pCUk_kpyEZ"
      },
      "source": [
        "##  BPE tokenization using [youtokentome library](https://pypi.org/project/youtokentome/):"
      ]
    },
    {
      "cell_type": "code",
      "metadata": {
        "id": "veO9baR95w4R"
      },
      "source": [
        "NUM_TOKENS_BPE = 500\r\n",
        "BPE_MODEL_FILENAME = \"/tmp/bpe_model.yttm\"\r\n",
        "yttm.BPE.train(data=TRAIN_SAMPLE_FILENAME, vocab_size=NUM_TOKENS_BPE, model=BPE_MODEL_FILENAME)\r\n",
        "\r\n",
        "tokenizer = yttm.BPE(BPE_MODEL_FILENAME)\r\n",
        "\r\n",
        "train_tokenized_sample = tokenizer.encode(train_sample, bos=True, eos=True)\r\n",
        "val_tokenized_sample = tokenizer.encode(val_sample, bos=True, eos=True)"
      ],
      "execution_count": 22,
      "outputs": []
    },
    {
      "cell_type": "code",
      "metadata": {
        "id": "JFenMS90ghZU",
        "colab": {
          "base_uri": "https://localhost:8080/"
        },
        "outputId": "63e37acf-6948-42cf-870f-ee5be986d3b3"
      },
      "source": [
        "print(train_tokenized_sample[0])"
      ],
      "execution_count": 23,
      "outputs": [
        {
          "output_type": "stream",
          "text": [
            "[2, 4, 12, 18, 212, 326, 346, 12, 150, 157, 192, 18, 267, 150, 239, 297, 25, 159, 333, 195, 29, 214, 28, 152, 229, 245, 174, 326, 240, 13, 23, 18, 195, 29, 214, 28, 209, 332, 350, 334, 193, 174, 156, 191, 14, 324, 15, 195, 29, 214, 28, 31, 4, 93, 414, 407, 278, 380, 27, 355, 155, 410, 231, 403, 244, 18, 305, 422, 6, 169, 160, 259, 440, 152, 227, 194, 219, 465, 164, 29, 319, 211, 193, 175, 372, 20, 443, 165, 233, 470, 437, 247, 33, 155, 343, 175, 9, 293, 396, 407, 33, 31, 282, 18, 255, 264, 18, 274, 16, 164, 11, 408, 417, 357, 200, 18, 315, 191, 155, 4, 64, 5, 164, 18, 224, 211, 197, 161, 212, 381, 332, 326, 346, 12, 296, 174, 374, 157, 420, 154, 18, 296, 174, 156, 496, 380, 186, 35, 18, 296, 174, 156, 496, 165, 319, 54, 385, 166, 294, 12, 18, 209, 212, 333, 372, 20, 443, 176, 194, 150, 190, 13, 185, 246, 151, 22, 12, 200, 15, 4, 33, 9, 35, 5, 246, 387, 28, 337, 4, 14, 23, 21, 157, 180, 158, 172, 202, 304, 203, 259, 204, 152, 164, 226, 15, 326, 25, 215, 18, 166, 294, 12, 18, 209, 372, 20, 443, 212, 232, 21, 13, 242, 12, 155, 455, 164, 310, 235, 198, 415, 433, 247, 364, 21, 3]\n"
          ],
          "name": "stdout"
        }
      ]
    },
    {
      "cell_type": "code",
      "metadata": {
        "ExecuteTime": {
          "end_time": "2019-11-05T18:27:57.897826Z",
          "start_time": "2019-11-05T18:27:57.874631Z"
        },
        "id": "DYo6GFY3pyEb",
        "colab": {
          "base_uri": "https://localhost:8080/"
        },
        "outputId": "b261ce2d-89e7-405d-d45d-eeef411830b0"
      },
      "source": [
        "print(tokenizer.vocab())"
      ],
      "execution_count": 24,
      "outputs": [
        {
          "output_type": "stream",
          "text": [
            "['<PAD>', '<UNK>', '<BOS>', '<EOS>', '▁', 'о', 'е', 'а', 'и', 'н', 'т', 'с', 'л', 'в', 'р', 'м', 'к', 'д', ',', 'у', 'п', 'я', 'ы', 'ь', 'г', 'б', 'з', 'ч', 'й', 'ж', 'х', '.', 'ш', 'ю', 'щ', 'ц', 'э', '—', '\\xa0', '-', 'Н', 'О', 'В', 'К', 'ф', 'П', 'И', 'Т', '?', 'С', 'Г', 'М', ':', 'Я', '!', '–', 'Д', ';', 'Б', 'А', '«', '»', 'Э', 'Е', 'Л', 'Р', 'З', 'Ч', 'У', '1', 'ъ', '(', ')', ']', '[', 'Ф', 'Х', 'i', 'e', '8', 'a', 's', 'u', '9', 'Ш', '…', 'r', 'o', '7', 't', '2', '4', '6', 'Ж', '3', '0', '5', 'Ц', 'n', 'm', 'I', 'l', 'c', 'Ю', 'X', 'd', 'ё', 'g', 'V', 'v', 'p', 'h', 'b', 'L', '“', '„', 'f', 'C', 'Й', 'q', 'Ь', 'x', \"'\", 'M', 'A', 'Ы', 'E', 'T', 'D', 'B', 'y', 'P', 'J', '’', 'Щ', 'S', 'F', 'w', 'k', 'R', 'z', 'U', 'N', 'K', 'H', 'j', 'Q', '№', 'W', 'G', '▁с', '▁п', '▁в', '▁н', 'то', '▁и', '▁о', 'но', 'ст', 'ен', 'ко', 'го', 'ал', '▁м', 'ра', '▁д', '▁по', '▁б', 'ро', '▁не', 'ка', 'ел', 'ре', '▁на', 'ть', 'ли', '▁т', 'во', '▁ч', 'ни', '▁у', 'ри', '▁е', '▁з', 'ло', 'ны', 'ся', 'ер', 'на', 'ет', 'ла', 'да', 'ва', '▁бы', 'ем', '▁ка', 'не', '▁ко', '▁э', 'сь', 'ки', 'ль', 'ми', '▁то', '▁к', 'ени', 'ру', '▁за', '▁ж', '▁что', 'ти', 'е,', '▁я', 'ди', 'до', 'ви', 'хо', 'ле', '▁от', '▁во', '▁со', '▁ра', '▁при', '▁он', '▁вс', '▁это', 'та', '▁мо', '▁до', 'ну', 'му', 'мо', '▁про', 'ей', 'чи', 'вал', '▁его', 'ве', '▁та', 'по', 'бо', '▁г', 'ля', 'ры', 'сти', 'ши', 'м,', 'сть', '▁как', '▁—', 'тел', '▁ни', 'сто', '▁го', 'лу', '▁все', '▁об', 'енно', 'ере', 'гда', 'же', '▁ст', '▁сво', 'ча', '▁вы', 'де', '▁из', '▁но', 'че', '▁а', 'й,', 'лю', 'ма', 'ще', '▁пре', '▁Н', '▁бо', 'ше', 'я,', 'ду', 'за', 'ку', '▁О', '▁кото', 'ста', 'еб', 'али', '▁ли', '▁В', 'ме', 'тель', '▁раз', 'дел', 'ной', 'ня', '▁К', '▁хо', 'со', 'ство', 'ги', '▁са', 'ско', 'жи', 'вы', 'лся', '▁жи', 'ало', '▁бе', 'си', '▁мен', 'щи', '▁ве', 'ело', '▁было', '▁дру', '▁И', 'ного', '▁П', '▁мне', 'ень', 'ться', 'бы', 'ств', 'га', 'енны', 'аль', '▁лю', '▁—\\xa0', 'лько', 'вер', 'ды', '\\xa0—', '-то', '▁был', 'ть,', 'уд', 'ала', '▁так', 'кой', 'ря', 'шь', 'каз', '▁же', '▁под', '▁ми', '▁меня', 'би', '▁Г', '▁ду', '▁Т', '▁да', '▁С', '▁М', '▁ви', 'ша', 'ты', '▁ста', 'вет', 'рем', 'те', 'са', 'но,', 'ца', 'мы', '▁себ', '▁си', 'лы', 'х,', 'ели', '▁пере', '▁ис', 'ха', '▁те', '▁ему', '▁од', 'пи', '▁или', 'ски', '▁еще', 'у,', '▁ме', '▁когда', '▁ма', '▁мы', '▁пос', '▁Я', 'ю,', '▁которы', '▁ре', 'па', 'ения', 'ным', '▁она', 'жа', '▁боль', '▁сто', '▁жиз', 'ение', '▁зна', 'раз', 'сли', 'ный', '▁ее', 'жно', '▁чу', 'сь,', '▁стра', 'нь', 'ные', '▁ты', '▁воз', '▁Он', 'ми,', 'зы', 'ела', 'ту', '▁для', '▁ц', '▁Д', '▁Но', '▁ле', 'ком', 'вши', 'ался', 'ву', 'гу', 'в,', '▁рас', 'вно', '▁уже', '▁врем', '▁ро', 'ных', '▁ча', '▁без', 'ци', '▁ф', 'тельно', '▁«', 'ется', '▁только', 'его', 'е.', 'ерь', 'т,', '▁Б', '▁слу', 'ства', '▁пу', '▁су', 'м.', '▁му', 'го,', 'к,', '▁ва', '▁вз', 'про', '▁само', 'ная', '▁ру', '▁пред', '▁дол', 'ем,', 'елове', '▁эти', 'об', 'чно', 'ходи', '▁теб', 'мер', 'стви', 'се', 'вя', 'шел', '▁чем', '▁сло', '▁А', '▁которо', '▁челове', 'ща', '▁х', 'зна', 'жд', 'и,', 'вать', '▁гла', '▁чтобы', 'ка,', '▁По', '▁свои', 'нов', 'нно', 'ба', '▁была', 'це', 'ют', 'дин', 'ную', 'ал,', '▁–']\n"
          ],
          "name": "stdout"
        }
      ]
    },
    {
      "cell_type": "code",
      "metadata": {
        "ExecuteTime": {
          "end_time": "2019-11-05T18:28:00.401753Z",
          "start_time": "2019-11-05T18:27:59.731680Z"
        },
        "id": "ko2WdTUGpyEc",
        "colab": {
          "base_uri": "https://localhost:8080/",
          "height": 281
        },
        "outputId": "33a14c50-3dfb-4fd0-e8cf-81ed52de2c92"
      },
      "source": [
        "plt.hist([len(sent) for sent in train_tokenized_sample], bins=30)\n",
        "plt.title('Distribution of tokenized fragment length')\n",
        "plt.yscale('log');"
      ],
      "execution_count": 25,
      "outputs": [
        {
          "output_type": "display_data",
          "data": {
            "image/png": "[encoded data removed]",
            "text/plain": [
              "<Figure size 432x288 with 1 Axes>"
            ]
          },
          "metadata": {
            "tags": [],
            "needs_background": "light"
          }
        }
      ]
    },
    {
      "cell_type": "code",
      "metadata": {
        "ExecuteTime": {
          "end_time": "2019-11-05T18:28:01.153867Z",
          "start_time": "2019-11-05T18:28:00.404320Z"
        },
        "id": "rBRwKqkxpyEc",
        "colab": {
          "base_uri": "https://localhost:8080/",
          "height": 281
        },
        "outputId": "c1c10bd2-8916-467c-8567-379c6e1ac293"
      },
      "source": [
        "token_counts = np.bincount([token_id for chunk in val_tokenized_sample for token_id in chunk])\n",
        "\n",
        "plt.hist(token_counts, bins=100)\n",
        "plt.title('Tokens mention distribution')\n",
        "plt.yscale('log');"
      ],
      "execution_count": 26,
      "outputs": [
        {
          "output_type": "display_data",
          "data": {
            "image/png": "[encoded data removed]",
            "text/plain": [
              "<Figure size 432x288 with 1 Axes>"
            ]
          },
          "metadata": {
            "tags": [],
            "needs_background": "light"
          }
        }
      ]
    },
    {
      "cell_type": "markdown",
      "metadata": {
        "id": "fZRepDx8pyEd"
      },
      "source": [
        "## Creation of [datasets](#scrollTo=OYs7y8NkMDFJ&line=8&uniqifier=1) for PyTorch:"
      ]
    },
    {
      "cell_type": "code",
      "metadata": {
        "ExecuteTime": {
          "end_time": "2019-11-05T18:28:02.980335Z",
          "start_time": "2019-11-05T18:28:02.938616Z"
        },
        "id": "K73PIdFHpyEd"
      },
      "source": [
        "CHUNK_LENGTH = 200\n",
        "\n",
        "train_dataset = LanguageModelDataset(train_tokenized_sample,\n",
        "                                     chunk_length=CHUNK_LENGTH)\n",
        "val_dataset = LanguageModelDataset(val_tokenized_sample,\n",
        "                                    chunk_length=CHUNK_LENGTH)"
      ],
      "execution_count": 27,
      "outputs": []
    },
    {
      "cell_type": "markdown",
      "metadata": {
        "id": "kEeDgemizvda"
      },
      "source": [
        "## Finding the appropriate batch size for train and validation:"
      ]
    },
    {
      "cell_type": "code",
      "metadata": {
        "id": "b8I125zlqxQu",
        "colab": {
          "base_uri": "https://localhost:8080/"
        },
        "outputId": "b02115ac-642a-46c5-c395-d2280db10fe1"
      },
      "source": [
        "print(f\"divisors of train dataset size ({len(train_dataset)}) are {divisors(len(train_dataset))}\")\r\n",
        "print(f\"divisors of val dataset size ({len(val_dataset)}) are {divisors(len(val_dataset))}\")\r\n",
        "\r\n",
        "batch_size_train = 66\r\n",
        "batch_size_val = 9"
      ],
      "execution_count": 28,
      "outputs": [
        {
          "output_type": "stream",
          "text": [
            "divisors of train dataset size (11946) are [1, 2, 3, 6, 11, 22, 33, 66, 181, 362, 543, 1086, 1991, 3982, 5973, 11946]\n",
            "divisors of val dataset size (5121) are [1, 3, 9, 569, 1707, 5121]\n"
          ],
          "name": "stdout"
        }
      ]
    },
    {
      "cell_type": "markdown",
      "metadata": {
        "id": "g-aOq3AKpyEh"
      },
      "source": [
        "## Using PyTorchEncoderLayer and our [LanguageModel class](#scrollTo=QZBmKyALZ5lq&line=1&uniqifier=1) for model creation:"
      ]
    },
    {
      "cell_type": "code",
      "metadata": {
        "ExecuteTime": {
          "end_time": "2019-11-05T18:28:10.550078Z",
          "start_time": "2019-11-05T18:28:10.425261Z"
        },
        "id": "KzZcp4K9pyEi",
        "colab": {
          "base_uri": "https://localhost:8080/"
        },
        "outputId": "6beda764-a40b-4ab5-9cba-76a15101954e"
      },
      "source": [
        "EMB_SIZE = 300             # if use BPEmb: SUPPORTED_DIMS = [25, 50, 100, 200, 300]\n",
        "HEADS_NUMBER = 15\n",
        "DIM_FEEDFORWARD = 500\n",
        "LAYERS_NUMBER = 8\n",
        "EMB_DROPOUT = 0.1\n",
        "LAYER_DROPOUT = 0.1\n",
        "\n",
        "vectors = BPEmb(language='ru', dim=EMB_SIZE,  merge_ops=min([1000, 3000, 5000, 10000, 25000, 50000, 100000, 200000], key=lambda x:abs(x-tokenizer.vocab_size())))\n",
        "emb_weights = vectors[tokenizer.vocab()]\n",
        "\n",
        "TransformerEncoderLayer = nn.TransformerEncoderLayer(d_model=EMB_SIZE, nhead=HEADS_NUMBER, dim_feedforward=DIM_FEEDFORWARD, dropout=LAYER_DROPOUT, activation='gelu')\n",
        "\n",
        "backbone = BatchFirstTransformerEncoder(TransformerEncoderLayer, num_layers=LAYERS_NUMBER)\n",
        "\n",
        "torch_transf_model = LanguageModel(vocab_size=tokenizer.vocab_size(), emb_size=EMB_SIZE, backbone=backbone, emb_weights=emb_weights, freeze=False, emb_dropout=EMB_DROPOUT)\n",
        "\n",
        "print('Number of parameters in model:', get_params_number(torch_transf_model))"
      ],
      "execution_count": 45,
      "outputs": [
        {
          "output_type": "stream",
          "text": [
            "Number of parameters in model: 5606100\n"
          ],
          "name": "stdout"
        }
      ]
    },
    {
      "cell_type": "markdown",
      "metadata": {
        "id": "ab9_bB2Quild"
      },
      "source": [
        "## [Training](#scrollTo=jx44W288jjRP&line=1&uniqifier=1):"
      ]
    },
    {
      "cell_type": "code",
      "metadata": {
        "ExecuteTime": {
          "end_time": "2019-11-05T18:28:58.797642Z",
          "start_time": "2019-11-05T18:28:34.626744Z"
        },
        "id": "evcA3YG3pyEi",
        "colab": {
          "base_uri": "https://localhost:8080/",
          "height": 670
        },
        "outputId": "b7b0b0db-399c-4db5-9a9a-f0ff5a86f8b4"
      },
      "source": [
        "lr_scheduler = lambda optim: \\\n",
        "    torch.optim.lr_scheduler.ReduceLROnPlateau(optim, patience=5, factor=0.75, verbose=True)\n",
        "\n",
        "#lr_scheduler = lambda optim: \\\n",
        "#    torch.optim.lr_scheduler.StepLR(optim, step_size=5, gamma=0.9)\n",
        "\n",
        "best_val_loss, best_torch_transf_model = train_eval_loop(torch_transf_model,\n",
        "                                                         train_dataset,\n",
        "                                                         val_dataset,\n",
        "                                                         lm_cross_entropy,\n",
        "                                                         lr=2e-4,\n",
        "                                                         epoch_n=300,\n",
        "                                                         batch_size_train=batch_size_train,\n",
        "                                                         batch_size_val=batch_size_val,\n",
        "                                                         device='cuda',\n",
        "                                                         early_stopping_patience=15,\n",
        "                                                         lr_scheduler_ctor=lr_scheduler,\n",
        "                                                         draw_loss=True,\n",
        "                                                         dataloader_workers_n=5)"
      ],
      "execution_count": 46,
      "outputs": [
        {
          "output_type": "display_data",
          "data": {
            "image/png": "[encoded data removed]",
            "text/plain": [
              "<Figure size 864x576 with 2 Axes>"
            ]
          },
          "metadata": {
            "tags": [],
            "needs_background": "light"
          }
        },
        {
          "output_type": "stream",
          "text": [
            "mean loss\n",
            "\ttraining         \t (min:    2.186, max:    5.608, cur:    2.186)\n",
            "\tvalidation       \t (min:    2.354, max:    5.566, cur:    2.354)\n",
            "\n",
            "Stopped early by user\n"
          ],
          "name": "stdout"
        }
      ]
    },
    {
      "cell_type": "code",
      "metadata": {
        "id": "CptBPDz8tWxd",
        "colab": {
          "base_uri": "https://localhost:8080/",
          "height": 17
        },
        "outputId": "0b303fee-d4c6-4349-af50-3ee6b54f1038"
      },
      "source": [
        "MODEL_FILENAME = f\"/tmp/best_torch_transf_model_{best_val_loss}.pth\"\r\n",
        "torch.save(best_torch_transf_model.state_dict(), MODEL_FILENAME)\r\n",
        "files.download(MODEL_FILENAME)"
      ],
      "execution_count": 47,
      "outputs": [
        {
          "output_type": "display_data",
          "data": {
            "application/javascript": [
              "\n",
              "    async function download(id, filename, size) {\n",
              "      if (!google.colab.kernel.accessAllowed) {\n",
              "        return;\n",
              "      }\n",
              "      const div = document.createElement('div');\n",
              "      const label = document.createElement('label');\n",
              "      label.textContent = `Downloading \"${filename}\": `;\n",
              "      div.appendChild(label);\n",
              "      const progress = document.createElement('progress');\n",
              "      progress.max = size;\n",
              "      div.appendChild(progress);\n",
              "      document.body.appendChild(div);\n",
              "\n",
              "      const buffers = [];\n",
              "      let downloaded = 0;\n",
              "\n",
              "      const channel = await google.colab.kernel.comms.open(id);\n",
              "      // Send a message to notify the kernel that we're ready.\n",
              "      channel.send({})\n",
              "\n",
              "      for await (const message of channel.messages) {\n",
              "        // Send a message to notify the kernel that we're ready.\n",
              "        channel.send({})\n",
              "        if (message.buffers) {\n",
              "          for (const buffer of message.buffers) {\n",
              "            buffers.push(buffer);\n",
              "            downloaded += buffer.byteLength;\n",
              "            progress.value = downloaded;\n",
              "          }\n",
              "        }\n",
              "      }\n",
              "      const blob = new Blob(buffers, {type: 'application/binary'});\n",
              "      const a = document.createElement('a');\n",
              "      a.href = window.URL.createObjectURL(blob);\n",
              "      a.download = filename;\n",
              "      div.appendChild(a);\n",
              "      a.click();\n",
              "      div.remove();\n",
              "    }\n",
              "  "
            ],
            "text/plain": [
              "<IPython.core.display.Javascript object>"
            ]
          },
          "metadata": {
            "tags": []
          }
        },
        {
          "output_type": "display_data",
          "data": {
            "application/javascript": [
              "download(\"download_43e6fe83-f462-47ec-b80a-654957b2b643\", \"best_torch_transf_model_2.3536726498226708.pth\", 22459965)"
            ],
            "text/plain": [
              "<IPython.core.display.Javascript object>"
            ]
          },
          "metadata": {
            "tags": []
          }
        }
      ]
    },
    {
      "cell_type": "markdown",
      "metadata": {
        "id": "zDOJilyxpyEk"
      },
      "source": [
        "## Text generation using language modeling:"
      ]
    },
    {
      "cell_type": "markdown",
      "metadata": {
        "id": "Vtput-CmpyEk"
      },
      "source": [
        "### Greedy generation:"
      ]
    },
    {
      "cell_type": "code",
      "metadata": {
        "id": "YaByhfwC42j9"
      },
      "source": [
        "MAX_STEPS = 100"
      ],
      "execution_count": 48,
      "outputs": []
    },
    {
      "cell_type": "code",
      "metadata": {
        "ExecuteTime": {
          "end_time": "2019-11-05T18:29:02.366423Z",
          "start_time": "2019-11-05T18:29:02.329495Z"
        },
        "id": "U-TVEKzYpyEl"
      },
      "source": [
        "greedy_generator = GreedyGenerator(best_torch_transf_model, tokenizer)"
      ],
      "execution_count": 49,
      "outputs": []
    },
    {
      "cell_type": "code",
      "metadata": {
        "ExecuteTime": {
          "end_time": "2019-11-05T18:29:03.175509Z",
          "start_time": "2019-11-05T18:29:02.921960Z"
        },
        "id": "AkmVKww6pyEl",
        "colab": {
          "base_uri": "https://localhost:8080/"
        },
        "outputId": "c1a3a4ab-4007-411b-d4c0-d257239f3c8b"
      },
      "source": [
        "print(greedy_generator('Многие испытывают то умирание и рождение заново, какое представляет собой наша судьба, ', max_steps_n=MAX_STEPS)) # Демиан"
      ],
      "execution_count": 50,
      "outputs": [
        {
          "output_type": "stream",
          "text": [
            "Многие испытывают то умирание и рождение заново, какое представляет собой наша судьба, какое-то время от времени, какое-то время от времени прошлого, какое-то время от времени прошлого, какое-то время от времени, какое-то время от времени прошлого, какое-то время от времени прошлого, какое-то время от времени прошлого, какое-то время от времени прошлого, како\n"
          ],
          "name": "stdout"
        }
      ]
    },
    {
      "cell_type": "code",
      "metadata": {
        "ExecuteTime": {
          "end_time": "2019-11-05T18:29:03.497702Z",
          "start_time": "2019-11-05T18:29:03.177598Z"
        },
        "id": "jvrdj553pyEl",
        "colab": {
          "base_uri": "https://localhost:8080/"
        },
        "outputId": "664293c4-8d30-4fb2-9caf-0822926723ea"
      },
      "source": [
        "print(greedy_generator('Чрезмерное знание, слишком много священных стихов, слишком много жертвенных правил, ', max_steps_n=MAX_STEPS)) # Сиддхартха"
      ],
      "execution_count": 51,
      "outputs": [
        {
          "output_type": "stream",
          "text": [
            "Чрезмерное знание, слишком много священных стихов, слишком много жертвенных правил, слишком много настоящего. Если бы я, наверно, слишком много способности к нему, то я, чтобы он был, чтобы он, слишком много раз, чтобы они были слишком многообещающими. Но, слишком много, слишком много способностей, слишком\n"
          ],
          "name": "stdout"
        }
      ]
    },
    {
      "cell_type": "code",
      "metadata": {
        "ExecuteTime": {
          "end_time": "2019-11-05T18:29:03.770265Z",
          "start_time": "2019-11-05T18:29:03.500330Z"
        },
        "id": "tDaXIIG0pyEm",
        "colab": {
          "base_uri": "https://localhost:8080/"
        },
        "outputId": "063f2972-8cd0-427b-d6a9-cc3f7bb5eaf0"
      },
      "source": [
        "print(greedy_generator('В ее глазах, холодных и светлых, витала умудренная грусть, эти глаза, казалось, выстрадали все мыслимые страданья и сказали им «да». ', max_steps_n=MAX_STEPS)) # Степной волк"
      ],
      "execution_count": 52,
      "outputs": [
        {
          "output_type": "stream",
          "text": [
            "В ее глазах, холодных и светлых, витала умудренная грусть, эти глаза, казалось, выстрадали все мыслимые страданья и сказали им «да». Любовь к нему я видел, как красивый мужчина, и, подобно тому как он, как я, как он, как всякое время. Если бы я снова и снова увидел, как всякий раз, когда я, снова и снова и снова, снова и снова, снова и с\n"
          ],
          "name": "stdout"
        }
      ]
    },
    {
      "cell_type": "markdown",
      "metadata": {
        "id": "pyEFB9JXpyEm"
      },
      "source": [
        "### Generation using beam search:"
      ]
    },
    {
      "cell_type": "code",
      "metadata": {
        "ExecuteTime": {
          "end_time": "2019-11-05T18:29:08.328662Z",
          "start_time": "2019-11-05T18:29:08.294006Z"
        },
        "id": "JL_cnQ-WpyEn"
      },
      "source": [
        "beam_generator = BeamGenerator(best_torch_transf_model, tokenizer)"
      ],
      "execution_count": 53,
      "outputs": []
    },
    {
      "cell_type": "code",
      "metadata": {
        "ExecuteTime": {
          "end_time": "2019-11-05T18:29:10.573399Z",
          "start_time": "2019-11-05T18:29:09.653198Z"
        },
        "id": "ub9oEWgSpyEn",
        "colab": {
          "base_uri": "https://localhost:8080/"
        },
        "outputId": "1e34baf5-0556-4c97-8998-20bd27a9e99a"
      },
      "source": [
        "%%time\n",
        "\n",
        "beam_gen_variants = beam_generator('Многие испытывают то умирание и рождение заново, какое представляет собой наша судьба, ', max_steps_n=MAX_STEPS, beamsize=5, return_hypotheses_n=5)\n",
        "\n",
        "for score, pred_txt in beam_gen_variants:\n",
        "    print('****')\n",
        "    print(score)\n",
        "    print(pred_txt)\n",
        "    print()"
      ],
      "execution_count": 54,
      "outputs": [
        {
          "output_type": "stream",
          "text": [
            "****\n",
            "6.8797614035957\n",
            "Многие испытывают то умирание и рождение заново, какое представляет собой наша судьба, какое-то время от времени, какое-то время от времени прошлого, какое-то время от времени прошлого, какое-то время от времени, каким-то особенно сделалось нечто совсем необыкновенное, что-то от нее и неправильное. Кнехт почувствовал, что-то недо\n",
            "\n",
            "****\n",
            "6.894255700261887\n",
            "Многие испытывают то умирание и рождение заново, какое представляет собой наша судьба, какое-то время от времени, какое-то время от времени прошлого, какое-то время от времени прошлого, какое-то время от времени, каким-то особенно сделалось нечто совсем необыкновенное, что-то от нее и неправильное. Кнехт почувствовал, что-то неи\n",
            "\n",
            "****\n",
            "6.909667867544825\n",
            "Многие испытывают то умирание и рождение заново, какое представляет собой наша судьба, какое-то время от времени, какое-то время от времени прошлого, какое-то время от времени прошлого, какое-то время от времени, каким-то особенно сделалось нечто совсем необыкновенное, что-то от нее и неправильное. Кнехт почувствовал, что-то неда\n",
            "\n",
            "****\n",
            "6.934414615235442\n",
            "Многие испытывают то умирание и рождение заново, какое представляет собой наша судьба, какое-то время от времени, какое-то время от времени прошлого, какое-то время от времени прошлого, какое-то время от времени, каким-то особенно сделалось нечто совсем необыкновенное, что-то от нее и неправильное, что-то от нее и неправильное, что-то\n",
            "\n",
            "****\n",
            "6.954535526510309\n",
            "Многие испытывают то умирание и рождение заново, какое представляет собой наша судьба, какое-то время от времени, какое-то время от времени прошлого, какое-то время от времени прошлого, какое-то время от времени, каким-то особенно сделалось нечто совсем необыкновенное, что-то от нее и неправильное. Кнехт почувствовал, что-то не в\n",
            "\n",
            "CPU times: user 4.12 s, sys: 49.5 ms, total: 4.17 s\n",
            "Wall time: 4.17 s\n"
          ],
          "name": "stdout"
        }
      ]
    },
    {
      "cell_type": "code",
      "metadata": {
        "id": "KOIvG6fw5d3V",
        "colab": {
          "base_uri": "https://localhost:8080/"
        },
        "outputId": "911c0f84-1091-402e-b184-a1defa73c5a0"
      },
      "source": [
        "%%time\r\n",
        "\r\n",
        "beam_gen_variants = beam_generator('Чрезмерное знание, слишком много священных стихов, слишком много жертвенных правил, ', max_steps_n=MAX_STEPS, beamsize=5, return_hypotheses_n=5)\r\n",
        "\r\n",
        "for score, pred_txt in beam_gen_variants:\r\n",
        "    print('****')\r\n",
        "    print(score)\r\n",
        "    print(pred_txt)\r\n",
        "    print()"
      ],
      "execution_count": 55,
      "outputs": [
        {
          "output_type": "stream",
          "text": [
            "****\n",
            "5.232607874028768\n",
            "Чрезмерное знание, слишком много священных стихов, слишком много жертвенных правил, слишком много напряжений и слишком много нарочито, слишком много способностей, слишком много нарочито, слишком много народов, слишком много народов, слишком много народов, слишком много народов, слишком много насчет то\n",
            "\n",
            "****\n",
            "5.254232214295294\n",
            "Чрезмерное знание, слишком много священных стихов, слишком много жертвенных правил, слишком много напряжений и слишком много нарочито, слишком много способностей, слишком много нарочито, слишком много народов, слишком много народов, слишком много народов, слишком много народов, слишком много насчет и\n",
            "\n",
            "****\n",
            "5.258527455031281\n",
            "Чрезмерное знание, слишком много священных стихов, слишком много жертвенных правил, слишком много напряжений и слишком много нарочито, слишком много способностей, слишком много нарочито, слишком много народов, слишком много народов, слишком много народов, слишком много народов, слишком много насчет г\n",
            "\n",
            "****\n",
            "5.28050376974828\n",
            "Чрезмерное знание, слишком много священных стихов, слишком много жертвенных правил, слишком много напряжений и слишком много нарочито, слишком много способностей, слишком много нарочито, слишком много народов, слишком много народов, слишком много народов, слишком много народов, слишком много насчет с\n",
            "\n",
            "****\n",
            "5.282815132664173\n",
            "Чрезмерное знание, слишком много священных стихов, слишком много жертвенных правил, слишком много напряжений и слишком много нарочито, слишком много способностей, слишком много нарочито, слишком много народов, слишком много народов, слишком много народов, слишком много народов, слишком много насчет,\n",
            "\n",
            "CPU times: user 4.74 s, sys: 66.6 ms, total: 4.8 s\n",
            "Wall time: 4.81 s\n"
          ],
          "name": "stdout"
        }
      ]
    },
    {
      "cell_type": "code",
      "metadata": {
        "id": "JDy1tHkL5mBf",
        "colab": {
          "base_uri": "https://localhost:8080/"
        },
        "outputId": "87cbbd85-7a2c-4548-e26d-c5eab74d788f"
      },
      "source": [
        "%%time\r\n",
        "\r\n",
        "beam_gen_variants = beam_generator('В ее глазах, холодных и светлых, витала умудренная грусть, эти глаза, казалось, выстрадали все мыслимые страданья и сказали им «да». ', max_steps_n=MAX_STEPS, beamsize=5, return_hypotheses_n=5)\r\n",
        "\r\n",
        "for score, pred_txt in beam_gen_variants:\r\n",
        "    print('****')\r\n",
        "    print(score)\r\n",
        "    print(pred_txt)\r\n",
        "    print()"
      ],
      "execution_count": 56,
      "outputs": [
        {
          "output_type": "stream",
          "text": [
            "****\n",
            "8.029404517022474\n",
            "В ее глазах, холодных и светлых, витала умудренная грусть, эти глаза, казалось, выстрадали все мыслимые страданья и сказали им «да». И все-таки этот смерть, казалось, звучалось так же необычно. Лишь смех и смеялся над ней и смотрел на него. — Вот как? — спросил я. — Не знаю, — сказал я. — Я не могу сказать ничего другого. — Нет, ничего.\n",
            "\n",
            "****\n",
            "8.084295742987306\n",
            "В ее глазах, холодных и светлых, витала умудренная грусть, эти глаза, казалось, выстрадали все мыслимые страданья и сказали им «да». И все-таки этот смерть, казалось, звучалось так же необычно. Лишь смех и смеялся над ней и смотрел на него. — Вот как? — спросил я. — Не знаю, — сказал я. — Я не могу сказать ничего другого. — Нет, ничего не\n",
            "\n",
            "****\n",
            "8.121333367071816\n",
            "В ее глазах, холодных и светлых, витала умудренная грусть, эти глаза, казалось, выстрадали все мыслимые страданья и сказали им «да». И все-таки этот смерть, казалось, звучалось так же необычно. Лишь смех и смеялся над ней и смотрел на него. — Вот как? — спросил я. — Не знаю, — сказал я. — Я не могу сказать ничего другого. — Ты скажу.\n",
            "\n",
            "****\n",
            "8.143001600129598\n",
            "В ее глазах, холодных и светлых, витала умудренная грусть, эти глаза, казалось, выстрадали все мыслимые страданья и сказали им «да». И все-таки этот смерть, казалось, звучалось так же необычно. Лишь смех и смеялся над ней и смотрел на него. — Вот как? — спросил я. — Не знаю, — сказал я. — Я не могу сказать ничего другого. — Ты скажу, —\n",
            "\n",
            "****\n",
            "8.157109921478263\n",
            "В ее глазах, холодных и светлых, витала умудренная грусть, эти глаза, казалось, выстрадали все мыслимые страданья и сказали им «да». И все-таки этот смерть, казалось, звучалось так же необычно. Лишь смех и смеялся над ней и смотрел на него. — Вот как? — спросил я. — Не знаю, — сказал я. — Я не могу сказать ничего другого. — Нет, ничего дру\n",
            "\n",
            "CPU times: user 4.45 s, sys: 60.1 ms, total: 4.51 s\n",
            "Wall time: 4.51 s\n"
          ],
          "name": "stdout"
        }
      ]
    },
    {
      "cell_type": "code",
      "metadata": {
        "id": "LNows2lqI7Gh"
      },
      "source": [
        "prob_generator = ProbGenerator(best_torch_transf_model, tokenizer, max_steps_n=MAX_STEPS, temperature=0.75)"
      ],
      "execution_count": 84,
      "outputs": []
    },
    {
      "cell_type": "code",
      "metadata": {
        "colab": {
          "base_uri": "https://localhost:8080/"
        },
        "id": "uQZ9vrw6F4fn",
        "outputId": "783ccf39-372c-454b-c589-922b396ed0da"
      },
      "source": [
        "print(prob_generator('Многие испытывают то умирание и рождение заново, какое представляет собой наша судьба, '))"
      ],
      "execution_count": 89,
      "outputs": [
        {
          "output_type": "stream",
          "text": [
            "Многие испытывают то умирание и рождение заново, какое представляет собой наша судьба, какая-то религия как эта. Вот имеет много неприятных. Согласно знает, что об этом и нет. Всегда именно это я еще стоял как обиду, надо полагать, что способность утонченность и снова принимали письмо читатели при это\n"
          ],
          "name": "stdout"
        }
      ]
    },
    {
      "cell_type": "code",
      "metadata": {
        "colab": {
          "base_uri": "https://localhost:8080/"
        },
        "id": "u-xibYuzF-7h",
        "outputId": "bded9fb6-abf7-4058-e63e-45105f88b601"
      },
      "source": [
        "print(prob_generator('Чрезмерное знание, слишком много священных стихов, слишком много жертвенных правил, '))"
      ],
      "execution_count": 90,
      "outputs": [
        {
          "output_type": "stream",
          "text": [
            "Чрезмерное знание, слишком много священных стихов, слишком много жертвенных правил, слишком много было то, что для него за него ничего не удавалось, слишком много лжи. Старик дружил некоторое время поиски, и, пожалуй, слишком много спрашивал. Он показался мне и вошел в свою комнату. Совершенно мне приходилось стать\n"
          ],
          "name": "stdout"
        }
      ]
    },
    {
      "cell_type": "code",
      "metadata": {
        "colab": {
          "base_uri": "https://localhost:8080/"
        },
        "id": "1wMOzxxMGg51",
        "outputId": "6f983be3-bd29-48ba-ef88-39dfcfd12ec0"
      },
      "source": [
        "print(prob_generator('В ее глазах, холодных и светлых, витала умудренная грусть, эти глаза, казалось, выстрадали все мыслимые страданья и сказали им «да». ')) # Степной волк"
      ],
      "execution_count": 88,
      "outputs": [
        {
          "output_type": "stream",
          "text": [
            "В ее глазах, холодных и светлых, витала умудренная грусть, эти глаза, казалось, выстрадали все мыслимые страданья и сказали им «да». Между тем молча вовсе не было колдовством, с которым здесь отдалилась от родины, и на это полуопискалось бы из Провинции и критиковые дела, изменялись, по возможности выдумчиво успеха, и они проглядывали у них в\n"
          ],
          "name": "stdout"
        }
      ]
    }
  ]
}